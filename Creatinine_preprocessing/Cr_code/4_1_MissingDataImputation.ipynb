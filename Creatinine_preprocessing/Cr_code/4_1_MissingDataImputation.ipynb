{
 "cells": [
  {
   "cell_type": "markdown",
   "metadata": {
    "collapsed": true
   },
   "source": [
    "### One cell to run everything"
   ]
  },
  {
   "cell_type": "code",
   "execution_count": 8,
   "metadata": {
    "collapsed": false
   },
   "outputs": [
    {
     "name": "stdout",
     "output_type": "stream",
     "text": [
      "(4643, 60)\n",
      "(4643, 60)\n",
      "(1719, 60)\n",
      "(1719, 60)\n",
      "(4643, 60)\n",
      "(4643, 60)\n",
      "(1719, 60)\n",
      "(1719, 60)\n",
      "(4643, 60)\n",
      "(4643, 60)\n",
      "(1719, 60)\n",
      "(1719, 60)\n",
      "(4643, 60)\n",
      "(4643, 60)\n",
      "(1719, 60)\n",
      "(1719, 60)\n"
     ]
    }
   ],
   "source": [
    "\n",
    "\n",
    "# # 1- Packages Import\n",
    "\n",
    "\n",
    "import numpy as np\n",
    "import pandas as pd\n",
    "import matplotlib.pyplot as plt\n",
    "import seaborn as sns\n",
    "\n",
    "# Imputation\n",
    "import sklearn.preprocessing.imputation\n",
    "from sklearn.preprocessing import Imputer\n",
    "from sklearn.impute import SimpleImputer\n",
    "\n",
    "\n",
    "# # 2- Approach\n",
    "\n",
    "# 2 types of imputation: <br/>\n",
    "# - mean <br/>\n",
    "# - knn \n",
    "\n",
    "# # 3- Data import\n",
    "\n",
    "\n",
    "#for timelag in ['2','4','6','24']:\n",
    "#focus on 2h in the end\n",
    "for timelag in ['2']:\n",
    "    for filt in ['','filter']:\n",
    "\n",
    "\n",
    "        X = pd.read_csv('../data/Creatinine_data/X{}_not_imputed_{}h.csv'.format(('_'*(len(filt)>0))+filt,timelag), index_col=0)\n",
    "\n",
    "        print(X.shape)\n",
    "\n",
    "\n",
    "        # # 4- Mean Imputation\n",
    "\n",
    "        imp_mean = SimpleImputer(missing_values=np.nan, strategy='mean')\n",
    "\n",
    "\n",
    "        imp_mean.fit(X)\n",
    "        mean_X = pd.DataFrame(imp_mean.transform(X), columns=X.columns)   \n",
    "\n",
    "        print(mean_X.shape)\n",
    "        mean_X.head()\n",
    "\n",
    "\n",
    "        # ### Export\n",
    "\n",
    "\n",
    "        export_mean_name = '../data/Creatinine_data/X{}_mean_imputed_{}h.csv'.format(('_'*(len(filt)>0))+filt,timelag)\n",
    "\n",
    "\n",
    "        mean_X.to_csv(export_mean_name)\n",
    "\n",
    "\n",
    "\n"
   ]
  },
  {
   "cell_type": "code",
   "execution_count": null,
   "metadata": {
    "collapsed": true
   },
   "outputs": [],
   "source": []
  },
  {
   "cell_type": "code",
   "execution_count": null,
   "metadata": {
    "collapsed": true
   },
   "outputs": [],
   "source": []
  },
  {
   "cell_type": "code",
   "execution_count": null,
   "metadata": {
    "collapsed": true
   },
   "outputs": [],
   "source": []
  }
 ],
 "metadata": {
  "kernelspec": {
   "display_name": "Python 3",
   "language": "python",
   "name": "python3"
  },
  "language_info": {
   "codemirror_mode": {
    "name": "ipython",
    "version": 3
   },
   "file_extension": ".py",
   "mimetype": "text/x-python",
   "name": "python",
   "nbconvert_exporter": "python",
   "pygments_lexer": "ipython3",
   "version": "3.5.6"
  }
 },
 "nbformat": 4,
 "nbformat_minor": 2
}
