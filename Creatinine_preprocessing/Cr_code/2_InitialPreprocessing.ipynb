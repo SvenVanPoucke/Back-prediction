{
 "cells": [
  {
   "cell_type": "markdown",
   "metadata": {},
   "source": [
    "# 1- Packages Import"
   ]
  },
  {
   "cell_type": "code",
   "execution_count": 3,
   "metadata": {
    "collapsed": false
   },
   "outputs": [],
   "source": [
    "import numpy as np\n",
    "import pandas as pd\n",
    "import matplotlib.pyplot as plt\n",
    "import seaborn as sns\n",
    "from sklearn import preprocessing"
   ]
  },
  {
   "cell_type": "markdown",
   "metadata": {},
   "source": [
    "# 2- Approach"
   ]
  },
  {
   "cell_type": "markdown",
   "metadata": {},
   "source": [
    "In this notebook, we perform elementary preprocessing operations on our 2 data files: <br/>\n",
    "- Masterfile 24h <br/>\n",
    "- Masterfile 4h"
   ]
  },
  {
   "cell_type": "markdown",
   "metadata": {},
   "source": [
    "# 3- Data Import"
   ]
  },
  {
   "cell_type": "code",
   "execution_count": 8,
   "metadata": {
    "collapsed": false
   },
   "outputs": [],
   "source": [
    "data24 = pd.read_csv('../data/Creatinine_data/CR_Masterfile24h.csv', index_col=0)\n",
    "data6 = pd.read_csv('../data/Creatinine_data/CR_Masterfile6h.csv', index_col=0)\n",
    "data4 = pd.read_csv('../data/Creatinine_data/CR_Masterfile4h.csv', index_col=0)\n",
    "data2 = pd.read_csv('../data/Creatinine_data/CR_Masterfile2h.csv', index_col=0)"
   ]
  },
  {
   "cell_type": "code",
   "execution_count": 9,
   "metadata": {
    "collapsed": false
   },
   "outputs": [
    {
     "name": "stdout",
     "output_type": "stream",
     "text": [
      "(4786, 85)\n",
      "(5627, 85)\n"
     ]
    }
   ],
   "source": [
    "patients4 = data4.subject_id.unique()\n",
    "patients2 = data2.subject_id.unique()\n",
    "\n",
    "print(data2.shape)\n",
    "print(data4.shape)\n",
    "data4 = data4.loc[data4.subject_id.isin(patients2)]\n",
    "data6 = data6.loc[data6.subject_id.isin(patients2)]\n",
    "data24 = data24.loc[data24.subject_id.isin(patients2)]"
   ]
  },
  {
   "cell_type": "code",
   "execution_count": 10,
   "metadata": {
    "collapsed": true
   },
   "outputs": [],
   "source": [
    "data ={}\n",
    "data[24]= data24\n",
    "data[6]= data6\n",
    "data[4]= data4\n",
    "data[2]= data2"
   ]
  },
  {
   "cell_type": "code",
   "execution_count": 11,
   "metadata": {
    "collapsed": false
   },
   "outputs": [
    {
     "name": "stdout",
     "output_type": "stream",
     "text": [
      "(4786, 85)\n",
      "(4786, 85)\n",
      "(4786, 85)\n",
      "(4786, 85)\n"
     ]
    }
   ],
   "source": [
    "for i in [2,4,6,24]:\n",
    "    print(data[i].shape)"
   ]
  },
  {
   "cell_type": "markdown",
   "metadata": {},
   "source": [
    "# 4- Elementary Preprocessing"
   ]
  },
  {
   "cell_type": "markdown",
   "metadata": {},
   "source": [
    "### 4.1- Trend Features?"
   ]
  },
  {
   "cell_type": "markdown",
   "metadata": {},
   "source": [
    "### 4.2- Timelag filter"
   ]
  },
  {
   "cell_type": "markdown",
   "metadata": {},
   "source": [
    "Here, we delete rows with a timelag greater than 30 days."
   ]
  },
  {
   "cell_type": "code",
   "execution_count": 12,
   "metadata": {
    "collapsed": true
   },
   "outputs": [],
   "source": [
    "nb_max_days = 30\n",
    "timelag = \"Cr_base_timelag\""
   ]
  },
  {
   "cell_type": "code",
   "execution_count": 13,
   "metadata": {
    "collapsed": false
   },
   "outputs": [
    {
     "name": "stdout",
     "output_type": "stream",
     "text": [
      "Number of rows deleted for 2hours :  143\n",
      "Number of rows deleted for 4hours :  143\n",
      "Number of rows deleted for 6hours :  143\n",
      "Number of rows deleted for 24hours :  143\n"
     ]
    }
   ],
   "source": [
    "for i in [2,4,6,24]:   \n",
    "    print(\"Number of rows deleted for \"+str(i) +\"hours : \", len(data[i].loc[data[i][timelag]<-30]))\n",
    "    data[i] = data[i].loc[data[i][timelag]>=-30]"
   ]
  },
  {
   "cell_type": "markdown",
   "metadata": {},
   "source": [
    "### 4.3- Features selection"
   ]
  },
  {
   "cell_type": "markdown",
   "metadata": {},
   "source": [
    "Here, we delete features using: <br/>\n",
    "- our correlation analysis <br/>\n",
    "- the medical insights about redundant features"
   ]
  },
  {
   "cell_type": "code",
   "execution_count": 14,
   "metadata": {
    "collapsed": true
   },
   "outputs": [],
   "source": [
    "pd.set_option('display.max_columns',100)\n",
    "pd.set_option('display.max_rows',100)"
   ]
  },
  {
   "cell_type": "markdown",
   "metadata": {},
   "source": [
    "We do not perform any \"best subset selection\" here."
   ]
  },
  {
   "cell_type": "code",
   "execution_count": 16,
   "metadata": {
    "collapsed": true
   },
   "outputs": [],
   "source": [
    "i=24\n",
    "id_features_tbr = ['subject_id', 'icustay_id', 'hadm_id']\n",
    "time_features_tbr = ['Cr_baseline_time','admittime', 'Cr_initial_time']\n",
    "corr_features_tbr = ['Hematocrit', 'PT','MCH', 'MCV']\n",
    "corr_features_tbr += [c for c in data[i].columns if ((c.startswith('MAP')))]\n",
    "other_features_tbr = ['icu_length_of_stay', 'admission_location', 'diagnosis']\n",
    "features_to_be_removed = id_features_tbr + time_features_tbr + corr_features_tbr + other_features_tbr"
   ]
  },
  {
   "cell_type": "code",
   "execution_count": 17,
   "metadata": {
    "collapsed": false
   },
   "outputs": [],
   "source": [
    "for i in [2,4,6,24]:   \n",
    "    data[i] = data[i].drop(columns = features_to_be_removed, axis=1)"
   ]
  },
  {
   "cell_type": "code",
   "execution_count": null,
   "metadata": {
    "collapsed": true
   },
   "outputs": [],
   "source": []
  },
  {
   "cell_type": "markdown",
   "metadata": {},
   "source": [
    "### 4.4- Missing Values Filter"
   ]
  },
  {
   "cell_type": "code",
   "execution_count": 18,
   "metadata": {
    "collapsed": false
   },
   "outputs": [],
   "source": [
    "df_missing = {}\n",
    "for i in [2,4,6,24]:   \n",
    "    df_missing[i] = pd.DataFrame({\"column\":list(data[i].columns), \"% missing\":[round(sum(data[i][c].isnull())/len(data[i])*100, 2) for c in data[i].columns]})"
   ]
  },
  {
   "cell_type": "code",
   "execution_count": 19,
   "metadata": {
    "collapsed": true
   },
   "outputs": [],
   "source": [
    "i=24\n",
    "features_to_drop = list(df_missing[i].loc[df_missing[i]['% missing']>=80][\"column\"].unique())\n",
    "features_to_drop.remove(\"vassopresor_doses\")\n",
    "features_to_drop = [c for c in features_to_drop if c in data[i].columns]"
   ]
  },
  {
   "cell_type": "code",
   "execution_count": 20,
   "metadata": {
    "collapsed": true
   },
   "outputs": [],
   "source": [
    "for i in [2,4,6,24]:   \n",
    "    data[i] = data[i].drop(columns = features_to_drop, axis=1)"
   ]
  },
  {
   "cell_type": "markdown",
   "metadata": {},
   "source": [
    "### 4.5- Encode categorical variables"
   ]
  },
  {
   "cell_type": "code",
   "execution_count": 4,
   "metadata": {
    "collapsed": true
   },
   "outputs": [],
   "source": [
    "import re\n",
    "def get_race(race):\n",
    "    return re.split(r'[`\\-=~!@#$%^&*()_+\\[\\]{};\\'\\\\:\"|<,./<>? ]', race)[0]\n",
    "    \n",
    "def convert_race(race):\n",
    "    if race in ['WHITE', 'BLACK', 'HISPANIC', 'ASIAN']:\n",
    "        return race\n",
    "    return 'OTHER'\n",
    "\n",
    "def get_race_straight(race_long):\n",
    "    race= re.split(r'[`\\-=~!@#$%^&*()_+\\[\\]{};\\'\\\\:\"|<,./<>? ]', race_long)[0]\n",
    "    if race in ['WHITE', 'BLACK', 'HISPANIC', 'ASIAN']:\n",
    "        return race\n",
    "    return 'OTHER'\n",
    "\n"
   ]
  },
  {
   "cell_type": "code",
   "execution_count": 21,
   "metadata": {
    "collapsed": true
   },
   "outputs": [],
   "source": [
    "def is_female(g):\n",
    "    if g=='F':\n",
    "        return 1\n",
    "    return 0"
   ]
  },
  {
   "cell_type": "code",
   "execution_count": 23,
   "metadata": {
    "collapsed": true
   },
   "outputs": [],
   "source": [
    "for i in [2,4,6,24]:   \n",
    "    for col in [ 'admission_type', 'current_service','RenalFailure_dx','Sepsis_dx','Infection_dx']:\n",
    "        le = preprocessing.LabelEncoder()\n",
    "        le.fit(data[i][col])\n",
    "        data[i][col]=le.transform(data[i][col])\n",
    "    \n",
    "for i in [2,4,6,24]:   \n",
    "    data[i]['vassopresor_doses'] = data[i]['vassopresor_doses'].fillna(0)"
   ]
  },
  {
   "cell_type": "code",
   "execution_count": 22,
   "metadata": {
    "collapsed": true
   },
   "outputs": [],
   "source": [
    "for i in [2,4,6,24]:   \n",
    "    data[i]['is_female'] = data[i]['gender'].apply(is_female)\n",
    "    data[i].drop(columns='gender',inplace=True)\n",
    "\n",
    "\n"
   ]
  },
  {
   "cell_type": "code",
   "execution_count": 24,
   "metadata": {
    "collapsed": true
   },
   "outputs": [],
   "source": [
    "for i in [2,4,6,24]:   \n",
    "    data[i]['ethnicity'] = data[i]['ethnicity'].apply(get_race_straight)\n",
    "\n",
    "\n",
    "\n"
   ]
  },
  {
   "cell_type": "markdown",
   "metadata": {},
   "source": [
    "# 5- Data Export"
   ]
  },
  {
   "cell_type": "code",
   "execution_count": 25,
   "metadata": {
    "collapsed": true
   },
   "outputs": [],
   "source": [
    "for i in [2,4,6,24]:\n",
    "    export_name_data = '../data/Creatinine_data/master_file_different_hours/PreProcessed_Masterfile{}h.csv'.format(str(i))\n",
    "    data[i].to_csv(export_name_data)"
   ]
  },
  {
   "cell_type": "code",
   "execution_count": null,
   "metadata": {
    "collapsed": true
   },
   "outputs": [],
   "source": []
  }
 ],
 "metadata": {
  "kernelspec": {
   "display_name": "Python 3",
   "language": "python",
   "name": "python3"
  },
  "language_info": {
   "codemirror_mode": {
    "name": "ipython",
    "version": 3
   },
   "file_extension": ".py",
   "mimetype": "text/x-python",
   "name": "python",
   "nbconvert_exporter": "python",
   "pygments_lexer": "ipython3",
   "version": "3.5.6"
  }
 },
 "nbformat": 4,
 "nbformat_minor": 2
}
