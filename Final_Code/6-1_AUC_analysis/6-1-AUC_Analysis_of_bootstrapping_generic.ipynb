{
 "cells": [
  {
   "cell_type": "markdown",
   "metadata": {},
   "source": [
    "# 1 - Description"
   ]
  },
  {
   "cell_type": "markdown",
   "metadata": {},
   "source": [
    "The purpose of this file is to analyse the AUC results of the bootstrapping and create a table with all the AUC results\n",
    "\n",
    "\n",
    "### INPUT\n",
    "- **auc_test_all_with_'+str(number_of_patients)+'_patients_test_size_'+str(test_size)**/ **AUC_test** - A pickle file being a dictionary containing all the AUC on the test set for every model, target and seed.\n",
    "\n",
    "- **Target_ICD_codes.csv** - A CSV with all the ICD codes that we have chosen as targets\n",
    "\n",
    "\n",
    "### OUTPUT\n",
    "\n",
    "- **AUC_mean_all_with_'+str(number_of_patients)+'_patients_test_size_'+str(test_size)+'.csv'**  A csv file containing all the AUC mean,std,CI on the test set for every model, target and seed.\n",
    "\n",
    "- All the box plots AUC as figures in the Results/figures/auc_boxplots folder\n",
    "\n",
    "\n",
    "----------------------------------------------------------\n"
   ]
  },
  {
   "cell_type": "markdown",
   "metadata": {
    "collapsed": true
   },
   "source": [
    "# 1- Packages Import"
   ]
  },
  {
   "cell_type": "code",
   "execution_count": 3,
   "metadata": {
    "collapsed": false
   },
   "outputs": [],
   "source": [
    "# Basic packages\n",
    "import numpy as np\n",
    "import pandas as pd\n",
    "from sklearn import preprocessing\n",
    "import matplotlib.pyplot as plt\n",
    "import seaborn as sns\n",
    "\n",
    "\n",
    "\n",
    "import pickle\n",
    "\n",
    "# Handling datetime types\n",
    "from datetime import datetime\n",
    "\n",
    "# Imputation\n",
    "\n",
    "import sklearn.preprocessing.imputation\n",
    "from sklearn.preprocessing import Imputer\n",
    "# from sklearn.impute import SimpleImputer\n",
    "\n",
    "# Split\n",
    "from sklearn.model_selection import train_test_split\n",
    "\n",
    "#Models\n",
    "from sklearn.metrics import accuracy_score \n",
    "from sklearn.metrics import roc_auc_score\n",
    "from sklearn.ensemble import RandomForestClassifier\n",
    "from sklearn.ensemble import GradientBoostingClassifier\n",
    "\n",
    "from sklearn.linear_model import LogisticRegression\n",
    "from sklearn.linear_model import LogisticRegressionCV\n",
    "from sklearn.linear_model import LinearRegression\n",
    "\n",
    "from sklearn.ensemble import GradientBoostingRegressor\n",
    "from sklearn.ensemble import RandomForestRegressor\n",
    "from sklearn import tree\n",
    "\n",
    "from sklearn.metrics import r2_score\n",
    "from sklearn.metrics import mean_absolute_error, mean_squared_error\n",
    "\n",
    "\n",
    "from sklearn.metrics import classification_report,confusion_matrix\n",
    "import itertools\n",
    "\n",
    "import matplotlib.pyplot as plt\n",
    "%matplotlib inline \n",
    "# Call helper file to run methods\n",
    "%load_ext autoreload\n",
    "%autoreload 1\n",
    "\n",
    "\n"
   ]
  },
  {
   "cell_type": "code",
   "execution_count": 4,
   "metadata": {
    "collapsed": true
   },
   "outputs": [],
   "source": [
    "pd.set_option('display.max_columns',100)\n",
    "pd.set_option('display.max_rows',100)"
   ]
  },
  {
   "cell_type": "markdown",
   "metadata": {},
   "source": [
    "# 2- Data Import and Overview"
   ]
  },
  {
   "cell_type": "code",
   "execution_count": 5,
   "metadata": {
    "collapsed": true
   },
   "outputs": [],
   "source": [
    "path_to_load='../Data/Generated_csv/'\n",
    "imputation_method='fillna'"
   ]
  },
  {
   "cell_type": "markdown",
   "metadata": {},
   "source": [
    "## 2-1 Target"
   ]
  },
  {
   "cell_type": "code",
   "execution_count": 6,
   "metadata": {
    "collapsed": false
   },
   "outputs": [],
   "source": [
    "targets =['target_bin']"
   ]
  },
  {
   "cell_type": "code",
   "execution_count": 7,
   "metadata": {
    "collapsed": true
   },
   "outputs": [],
   "source": [
    "is_creatinine=True\n",
    "is_creatinine=False\n",
    "is_filter=True\n",
    "is_filter=False\n",
    "\n",
    "is_continous=True\n",
    "#is_continous=False\n",
    "\n",
    "test_size=0.25\n",
    "path_to_add='Hemoglobin/'\n",
    "number_of_patients=6139\n",
    "filtered=''\n",
    "if is_filter:\n",
    "    number_of_patients=1553\n",
    "if is_creatinine:\n",
    "    path_to_add='Creatinine/'\n",
    "    number_of_patients=4643\n",
    "    if is_filter:\n",
    "        number_of_patients=1719\n",
    "    \n"
   ]
  },
  {
   "cell_type": "markdown",
   "metadata": {},
   "source": [
    "## 2-2 load the results"
   ]
  },
  {
   "cell_type": "code",
   "execution_count": 8,
   "metadata": {
    "collapsed": false
   },
   "outputs": [],
   "source": [
    "\n",
    "\n",
    "path='../../Data/Results/'+path_to_add\n",
    "\n",
    "#choose the imputation method you want\n",
    "imputation_method='knn'\n",
    "#imputation_method='mean'\n",
    "continous=''\n",
    "if is_continous:\n",
    "    continous='_continuous'\n",
    "\n",
    "constant_end_of_path=str(number_of_patients)+'_patients_test_size_'+str(test_size)+imputation_method+continous\n",
    "    \n",
    "\n",
    "with open(path+'AUC_results/auc_test_all_with_'+constant_end_of_path,'rb') as f:\n",
    "    AUC_test=pickle.load(f)"
   ]
  },
  {
   "cell_type": "markdown",
   "metadata": {},
   "source": [
    "## Run helper"
   ]
  },
  {
   "cell_type": "code",
   "execution_count": 9,
   "metadata": {
    "collapsed": false
   },
   "outputs": [],
   "source": [
    "%aimport auc_analysis_helper"
   ]
  },
  {
   "cell_type": "code",
   "execution_count": 13,
   "metadata": {
    "collapsed": true
   },
   "outputs": [],
   "source": [
    "#is_creatinine=True\n",
    "is_creatinine=False\n",
    "\n",
    "is_filter=False\n",
    "#is_filter=True\n",
    "\n",
    "is_continuous=True\n",
    "is_continous=False\n",
    "\n",
    "test_size=0.25\n",
    "path_to_add='Hemoglobin/'\n",
    "number_of_patients=6139\n",
    "filtered=''\n",
    "if is_filter:\n",
    "    number_of_patients=1553\n",
    "    filtered='filtered!'\n",
    "if is_creatinine:\n",
    "    path_to_add='Creatinine/'\n",
    "    number_of_patients=4643\n",
    "    if is_filter:\n",
    "        number_of_patients=1719\n",
    "    \n",
    "\n"
   ]
  },
  {
   "cell_type": "code",
   "execution_count": 23,
   "metadata": {
    "collapsed": false
   },
   "outputs": [
    {
     "name": "stderr",
     "output_type": "stream",
     "text": [
      "/Users/antonindauvin/Dropbox (MIT)/Hemo_last/Code/6-1_AUC_analysis/auc_analysis_helper.py:481: FutureWarning: Interpreting tuple 'by' as a list of keys, rather than a single key. Use 'by=[...]' instead of 'by=(...)'. In the future, a tuple will always mean a single key.\n",
      "  AUC_mean = df.groupby(('models','target')).agg(text).apply(lambda x :round(np.mean(x),3))\n",
      "/Users/antonindauvin/Dropbox (MIT)/Hemo_last/Code/6-1_AUC_analysis/auc_analysis_helper.py:483: FutureWarning: Interpreting tuple 'by' as a list of keys, rather than a single key. Use 'by=[...]' instead of 'by=(...)'. In the future, a tuple will always mean a single key.\n",
      "  std = df.groupby(('models','target')).agg(text).apply(lambda x :round(np.std(x),3))\n",
      "/Users/antonindauvin/Dropbox (MIT)/Hemo_last/Code/6-1_AUC_analysis/auc_analysis_helper.py:485: FutureWarning: Interpreting tuple 'by' as a list of keys, rather than a single key. Use 'by=[...]' instead of 'by=(...)'. In the future, a tuple will always mean a single key.\n",
      "  CI = df.groupby(('models','target')).agg(text).apply(lambda x: mean_confidence_interval(x,confidence=confidence))\n"
     ]
    }
   ],
   "source": [
    "models_to_test=['RFC','XGB','Log','CART','OCT','Baseline']\n",
    "#models_to_test=['RFC','XGB','Log','CART']\n",
    "\n",
    "targets_to_test = ['target_bin','target_bin2']\n",
    "if is_creatinine:\n",
    "    targets_to_test = ['target_bin','target_AKI']\n",
    "    \n",
    "    \n",
    "seeds= [1,5,10,15,20,25]\n",
    "auc_df =auc_analysis_helper.get_or_save_PR_csv(\n",
    "                        targets_to_test,\n",
    "                        models_to_test,\n",
    "                        seeds,\n",
    "                        number_of_patients,\n",
    "                        test_size=0.25,\n",
    "                        save_AUC=True,\n",
    "                        confidence=0.95,\n",
    "                        is_Creatinine=is_creatinine,\n",
    "                        all_CI=True)"
   ]
  },
  {
   "cell_type": "code",
   "execution_count": null,
   "metadata": {
    "collapsed": true
   },
   "outputs": [],
   "source": []
  }
 ],
 "metadata": {
  "kernelspec": {
   "display_name": "Python 3",
   "language": "python",
   "name": "python3"
  },
  "language_info": {
   "codemirror_mode": {
    "name": "ipython",
    "version": 3
   },
   "file_extension": ".py",
   "mimetype": "text/x-python",
   "name": "python",
   "nbconvert_exporter": "python",
   "pygments_lexer": "ipython3",
   "version": "3.5.6"
  }
 },
 "nbformat": 4,
 "nbformat_minor": 2
}
