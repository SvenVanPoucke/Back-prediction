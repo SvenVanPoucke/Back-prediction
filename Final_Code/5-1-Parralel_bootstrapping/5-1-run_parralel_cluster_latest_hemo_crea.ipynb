{
 "cells": [
  {
   "cell_type": "markdown",
   "metadata": {
    "collapsed": true
   },
   "source": [
    "# 1- Packages Import"
   ]
  },
  {
   "cell_type": "code",
   "execution_count": 1,
   "metadata": {
    "collapsed": true
   },
   "outputs": [],
   "source": [
    "# Basic packages\n",
    "import numpy as np\n",
    "import pandas as pd\n",
    "from sklearn import preprocessing\n",
    "import matplotlib.pyplot as plt\n",
    "import seaborn as sns\n",
    "\n",
    "\n",
    "\n",
    "import pickle\n",
    "\n",
    "# Handling datetime types\n",
    "from datetime import datetime\n",
    "\n",
    "# Imputation\n",
    "\n",
    "import sklearn.preprocessing.imputation\n",
    "from sklearn.preprocessing import Imputer\n",
    "# from sklearn.impute import SimpleImputer\n",
    "\n",
    "# Split\n",
    "from sklearn.model_selection import train_test_split\n",
    "\n",
    "#Models\n",
    "from sklearn.metrics import accuracy_score \n",
    "from sklearn.metrics import roc_auc_score\n",
    "from sklearn.ensemble import RandomForestClassifier\n",
    "from sklearn.ensemble import GradientBoostingClassifier\n",
    "\n",
    "from sklearn.linear_model import LogisticRegression\n",
    "from sklearn.linear_model import LogisticRegressionCV\n",
    "from sklearn.linear_model import LinearRegression\n",
    "\n",
    "from sklearn.ensemble import GradientBoostingRegressor\n",
    "from sklearn.ensemble import RandomForestRegressor\n",
    "from sklearn import tree\n",
    "\n",
    "from sklearn.metrics import r2_score\n",
    "from sklearn.metrics import mean_absolute_error, mean_squared_error\n",
    "\n",
    "\n",
    "from sklearn.metrics import classification_report,confusion_matrix\n",
    "import itertools\n",
    "\n",
    "import matplotlib.pyplot as plt\n",
    "%matplotlib inline \n",
    "\n",
    "from threading import Thread"
   ]
  },
  {
   "cell_type": "code",
   "execution_count": 2,
   "metadata": {
    "collapsed": true
   },
   "outputs": [],
   "source": [
    "pd.set_option('display.max_columns',100)\n",
    "pd.set_option('display.max_rows',100)"
   ]
  },
  {
   "cell_type": "code",
   "execution_count": 3,
   "metadata": {
    "collapsed": false
   },
   "outputs": [],
   "source": [
    "imputation_method = 'knn'\n",
    "#imputation_method = 'mean'\n",
    "filter_type = ''\n",
    "timelag = '2'\n",
    "\n",
    "is_filter=True\n",
    "is_filter=False\n",
    "\n",
    "if is_filter:\n",
    "    filter_type = 'filter'\n",
    "\n",
    "\n",
    "creatinine=False\n",
    "#creatinine=True\n",
    "\n",
    "lab='Hemoglobin'\n",
    "path_to_add='Hemoglobin/'\n",
    "if creatinine:\n",
    "    path_to_add='Creatinine/'\n",
    "    lab='Creatinine'\n",
    "path='../../Data/Results/'+path_to_add\n",
    "\n",
    "\n",
    "path_to_load='../../Data/Generated_csv/'+path_to_add\n",
    "import_name_X = path_to_load+'/X{}_{}_imputed_{}h.csv'.format(('_'*(len(filter_type)>0))+filter_type,\n",
    "                                                       imputation_method,\n",
    "                                                       timelag)\n",
    "\n",
    "    \n",
    "    ## Import y\n",
    "import_name_y = path_to_load+'/y_targets{}_{}h.csv'.format(('_'*(len(filter_type)>0))+filter_type,\n",
    "                                                       timelag)\n"
   ]
  },
  {
   "cell_type": "markdown",
   "metadata": {},
   "source": [
    "# 2- Data Import and Overview"
   ]
  },
  {
   "cell_type": "code",
   "execution_count": 4,
   "metadata": {
    "collapsed": false
   },
   "outputs": [
    {
     "name": "stdout",
     "output_type": "stream",
     "text": [
      "(6139, 58)\n",
      "(6139, 16)\n"
     ]
    }
   ],
   "source": [
    "X = pd.read_csv(import_name_X)\n",
    "X.drop(columns='Unnamed: 0',inplace=True)\n",
    "y = pd.read_csv(import_name_y)\n",
    "print(X.shape)\n",
    "print(y.shape)"
   ]
  },
  {
   "cell_type": "code",
   "execution_count": 5,
   "metadata": {
    "collapsed": true
   },
   "outputs": [],
   "source": [
    "cols_to_drop = ['admission_type','current_service', 'Bleed_dx']\n",
    "if creatinine:\n",
    "    cols_to_drop = ['admission_type','current_service', 'RenalFailure_dx', 'Sepsis_dx', 'Infection_dx']\n",
    "X.drop(columns=cols_to_drop,inplace=True)"
   ]
  },
  {
   "cell_type": "markdown",
   "metadata": {},
   "source": [
    "## Target"
   ]
  },
  {
   "cell_type": "code",
   "execution_count": 8,
   "metadata": {
    "collapsed": false
   },
   "outputs": [
    {
     "data": {
      "text/plain": [
       "count    6139.000000\n",
       "mean       12.271054\n",
       "std         2.006265\n",
       "min         4.100000\n",
       "25%        10.800000\n",
       "50%        12.300000\n",
       "75%        13.700000\n",
       "max        22.000000\n",
       "Name: target_baseline, dtype: float64"
      ]
     },
     "execution_count": 8,
     "metadata": {},
     "output_type": "execute_result"
    }
   ],
   "source": [
    "y.target_baseline.describe()"
   ]
  },
  {
   "cell_type": "code",
   "execution_count": 9,
   "metadata": {
    "collapsed": false,
    "scrolled": true
   },
   "outputs": [
    {
     "name": "stdout",
     "output_type": "stream",
     "text": [
      "count    6139.000000\n",
      "mean        0.009936\n",
      "std         0.099193\n",
      "min         0.000000\n",
      "25%         0.000000\n",
      "50%         0.000000\n",
      "75%         0.000000\n",
      "max         1.000000\n",
      "Name: target_bin2, dtype: float64\n",
      "count    6139.000000\n",
      "mean        0.055547\n",
      "std         0.229063\n",
      "min         0.000000\n",
      "25%         0.000000\n",
      "50%         0.000000\n",
      "75%         0.000000\n",
      "max         1.000000\n",
      "Name: target_bin2_baseline, dtype: float64\n"
     ]
    }
   ],
   "source": [
    "if creatinine:\n",
    "    print(y.target_AKI.describe())\n",
    "    print(y.target_AKI_baseline.describe())\n",
    "if not creatinine:\n",
    "    print(y.target_bin2.describe())\n",
    "    print(y.target_bin2_baseline.describe())"
   ]
  },
  {
   "cell_type": "code",
   "execution_count": 10,
   "metadata": {
    "collapsed": false
   },
   "outputs": [],
   "source": [
    "# Call helper file to run methods\n",
    "%load_ext autoreload\n",
    "%autoreload 1\n",
    "\n"
   ]
  },
  {
   "cell_type": "code",
   "execution_count": 14,
   "metadata": {
    "collapsed": false
   },
   "outputs": [
    {
     "name": "stderr",
     "output_type": "stream",
     "text": [
      "/anaconda2/envs/py3/lib/python3.5/site-packages/julia/core.py:442: UserWarning: /Applications/Julia-0.7.app/Contents/Resources/julia/bin/julia warned:\n",
      "WARNING: importing deprecated binding Base.Libdl into LIBLINEAR.\n",
      "WARNING: Base.Libdl is deprecated, run `using Libdl` instead\n",
      " in module LIBLINEAR\n",
      "WARNING: Base.Void is deprecated, use Nothing instead.\n",
      " in module LIBLINEAR\n",
      "WARNING: Base.Void is deprecated, use Nothing instead.\n",
      " in module LIBLINEAR\n",
      "WARNING: Base.Libdl is deprecated, run `using Libdl` instead\n",
      " in module LIBLINEAR\n",
      "WARNING: Base.Void is deprecated, use Nothing instead.\n",
      " in module LIBLINEAR\n",
      "WARNING: Base.Libdl is deprecated, run `using Libdl` instead\n",
      " in module LIBLINEAR\n",
      "WARNING: Base.Void is deprecated, use Nothing instead.\n",
      " in module LIBLINEAR\n",
      "WARNING: Base.Void is deprecated, use Nothing instead.\n",
      " in module LIBLINEAR\n",
      "WARNING: Base.Libdl is deprecated, run `using Libdl` instead\n",
      " in module LIBLINEAR\n",
      "WARNING: Base.Void is deprecated, use Nothing instead.\n",
      " in module LIBLINEAR\n",
      "WARNING: Base.Void is deprecated, use Nothing instead.\n",
      " in module LIBLINEAR\n",
      "in get_liblinear at /Users/iai/.julia/packages/LIBLINEAR/xcSKN/src/LIBLINEAR.jl\n",
      "┌ Warning: `is_windows` is deprecated, use `Sys.iswindows` instead.\n",
      "│   caller = get_liblinear() at LIBLINEAR.jl:74\n",
      "└ @ LIBLINEAR /Users/iai/.julia/packages/LIBLINEAR/xcSKN/src/LIBLINEAR.jl:74\n",
      "┌ Warning: `cfunction(f, r, a::Tuple)` is deprecated, use `cfunction(f, r, Tuple{a...})` instead.\n",
      "│   caller = get_liblinear() at LIBLINEAR.jl:78\n",
      "└ @ LIBLINEAR /Users/iai/.julia/packages/LIBLINEAR/xcSKN/src/LIBLINEAR.jl:78\n",
      "┌ Warning: The function `cfunction` is now written as a macro `@cfunction`.\n",
      "│   caller = cfunction(::Function, ::Type, ::Tuple{DataType}) at deprecated.jl:55\n",
      "└ @ Base ./deprecated.jl:55\n",
      "  warnings.warn(\"{} warned:\\n{}\".format(julia, stderr))\n"
     ]
    }
   ],
   "source": [
    "%aimport run_models_helper_hemo"
   ]
  },
  {
   "cell_type": "code",
   "execution_count": 37,
   "metadata": {
    "collapsed": false
   },
   "outputs": [
    {
     "name": "stdout",
     "output_type": "stream",
     "text": [
      "Time when start:  13:41:40\n",
      "1\n",
      "End of one thread!\n",
      "took 72.50 seconds\n",
      "Time when start:  13:42:52\n",
      "5\n",
      "End of one thread!\n",
      "took 56.60 seconds\n",
      "Time when start:  13:43:49\n",
      "10\n",
      "End of one thread!\n",
      "took 52.97 seconds\n",
      "Time when start:  13:44:42\n",
      "15\n",
      "End of one thread!\n",
      "took 61.31 seconds\n",
      "Time when start:  13:45:43\n",
      "20\n",
      "End of one thread!\n",
      "took 56.53 seconds\n",
      "Time when start:  13:46:40\n",
      "25\n",
      "End of one thread!\n",
      "took 51.77 seconds\n"
     ]
    },
    {
     "name": "stderr",
     "output_type": "stream",
     "text": [
      "/Users/antonindauvin/Dropbox (MIT)/Hemo_last/Code/5-1-Parralel_bootstrapping/run_models_helper_hemo.py:342: FutureWarning: Sorting because non-concatenation axis is not aligned. A future version\n",
      "of pandas will change to not sort by default.\n",
      "\n",
      "To accept the future behavior, pass 'sort=False'.\n",
      "\n",
      "To retain the current behavior and silence the warning, pass 'sort=True'.\n",
      "\n",
      "  Importance_all = pd.concat((Importance_all,Importances[target][model_name][seed]))\n"
     ]
    },
    {
     "name": "stdout",
     "output_type": "stream",
     "text": [
      "Total run took 352.25 seconds\n"
     ]
    }
   ],
   "source": [
    "\n",
    "number_of_patients=X.shape[0]\n",
    "test_size = 0.25\n",
    "#seeds= [1]\n",
    "\n",
    "# can increase the number of seeds, won't affect too much the CI for the classical models\n",
    "seeds= [1,5,10,15,20,25]\n",
    "\n",
    "is_continuous=True\n",
    "is_continuous=False\n",
    "\n",
    "\n",
    "\n",
    "target_to_test = ['target_bin','target_bin2']\n",
    "#target_to_test = ['target_bin2']\n",
    "\n",
    "    \n",
    "if creatinine:\n",
    "    target_to_test = ['target_bin','target_AKI']\n",
    "    #target_to_test = ['target_AKI']\n",
    "\n",
    "if is_continuous:\n",
    "    target_to_test = ['target_baseline']\n",
    "\n",
    "\n",
    "\n",
    "\n",
    "\n",
    "\n",
    "\n",
    "\n",
    "models_to_test = ['Baseline']\n",
    "models_to_test=['RFC','XGB','Log','CART']\n",
    "\n",
    "\n",
    "models_to_test=['OCT']\n",
    "\n",
    "if is_continuous:\n",
    "    models_to_test=['RFC','XGB','Lin']\n",
    "    #models_to_test = ['Baseline']\n",
    "    #models_to_test=['ORT']\n",
    "\n",
    "\n",
    "save_all=True\n",
    "\n",
    "import time\n",
    "start= time.time()\n",
    "\n",
    "AUC_test_dict = run_models_helper_hemo.run_models(\n",
    "    number_of_patients,\n",
    "    test_size,\n",
    "    X,\n",
    "    y,\n",
    "    seeds,\n",
    "    target_to_test,\n",
    "    models_to_test,\n",
    "    run_parralel=False,\n",
    "    save_csv=False,\n",
    "    save_probabilities=save_all,\n",
    "    save_models=save_all,\n",
    "    save_importance = save_all,\n",
    "    save_auc = save_all,\n",
    "    creatinine=creatinine,\n",
    "    imputation_method=imputation_method,\n",
    "    is_continuous=is_continuous)\n",
    "\n",
    "stop = time.time()\n",
    "\n",
    "print(\"Total run took %.2f seconds\"% ((stop - start)))\n",
    "\n",
    "\n",
    "\n",
    "\n",
    "\n",
    "\n"
   ]
  },
  {
   "cell_type": "code",
   "execution_count": null,
   "metadata": {
    "collapsed": true
   },
   "outputs": [],
   "source": []
  }
 ],
 "metadata": {
  "kernelspec": {
   "display_name": "Python 3",
   "language": "python",
   "name": "python3"
  },
  "language_info": {
   "codemirror_mode": {
    "name": "ipython",
    "version": 3
   },
   "file_extension": ".py",
   "mimetype": "text/x-python",
   "name": "python",
   "nbconvert_exporter": "python",
   "pygments_lexer": "ipython3",
   "version": "3.5.6"
  }
 },
 "nbformat": 4,
 "nbformat_minor": 2
}
