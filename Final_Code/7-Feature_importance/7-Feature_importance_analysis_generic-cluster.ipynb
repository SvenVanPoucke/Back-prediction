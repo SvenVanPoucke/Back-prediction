{
 "cells": [
  {
   "cell_type": "markdown",
   "metadata": {},
   "source": [
    "### Description \n",
    "The purpose of this notebook is to generate feature importance graphs\n",
    "\n",
    "### INPUT\n",
    "Feature importance results from the bootstrapping.\n",
    "- **feature_importance_all_with_'+str(number_of_patients)+'_patients_test_size_'+str(test_size)+'.csv'**\n",
    "\n",
    "\n",
    "### OUTPUT\n",
    "\n",
    "Graphes of the feature importance for any model/target\n",
    "Graphes are stored in the folder figures\n",
    "\n",
    "-----------------\n",
    "\n"
   ]
  },
  {
   "cell_type": "markdown",
   "metadata": {
    "collapsed": true
   },
   "source": [
    "# 1- Packages Import"
   ]
  },
  {
   "cell_type": "code",
   "execution_count": 1,
   "metadata": {
    "collapsed": true
   },
   "outputs": [],
   "source": [
    "# Basic packages\n",
    "import numpy as np\n",
    "import pandas as pd\n",
    "from sklearn import preprocessing\n",
    "import matplotlib.pyplot as plt\n",
    "import seaborn as sns\n",
    "\n",
    "# Handling datetime types\n",
    "from datetime import datetime\n",
    "\n",
    "# Imputation\n",
    "\n",
    "# import sklearn.preprocessing.imputation\n",
    "# from sklearn.preprocessing import Imputer\n",
    "# from sklearn.impute import SimpleImputer\n",
    "\n",
    "# Split\n",
    "from sklearn.model_selection import train_test_split\n",
    "\n",
    "#Models\n",
    "from sklearn.metrics import accuracy_score \n",
    "from sklearn.metrics import roc_auc_score\n",
    "from sklearn.ensemble import RandomForestClassifier\n",
    "from sklearn.ensemble import GradientBoostingClassifier\n",
    "\n",
    "from sklearn.linear_model import LogisticRegression\n",
    "from sklearn.linear_model import LogisticRegressionCV\n",
    "from sklearn.linear_model import LinearRegression\n",
    "\n",
    "from sklearn.ensemble import GradientBoostingRegressor\n",
    "from sklearn.ensemble import RandomForestRegressor\n",
    "from sklearn import tree\n",
    "\n",
    "from sklearn.metrics import r2_score\n",
    "from sklearn.metrics import mean_absolute_error, mean_squared_error\n",
    "\n",
    "\n",
    "from sklearn.metrics import classification_report,confusion_matrix\n",
    "import itertools\n",
    "\n",
    "import matplotlib.pyplot as plt\n",
    "%matplotlib inline "
   ]
  },
  {
   "cell_type": "code",
   "execution_count": 2,
   "metadata": {
    "collapsed": true
   },
   "outputs": [],
   "source": [
    "pd.set_option('display.max_columns',100)\n",
    "pd.set_option('display.max_rows',100)"
   ]
  },
  {
   "cell_type": "markdown",
   "metadata": {},
   "source": [
    "# 2- Data Import and Overview"
   ]
  },
  {
   "cell_type": "code",
   "execution_count": 3,
   "metadata": {
    "collapsed": false
   },
   "outputs": [
    {
     "name": "stdout",
     "output_type": "stream",
     "text": [
      "(10436, 21)\n"
     ]
    }
   ],
   "source": [
    "\n",
    "\n",
    "path='../../Data/Results/'\n",
    "\n",
    "creatinine=True\n",
    "creatinine=False\n",
    "path_to_add='Hemoglobin/'\n",
    "number_of_patients=6139\n",
    "if creatinine:\n",
    "    path_to_add='Creatinine/'\n",
    "    number_of_patients=4643\n",
    "\n",
    "path=path+path_to_add\n",
    "imputation_method='knn'\n",
    "test_size=0.25\n",
    "feature_importance_all = pd.read_csv(path+'Features/feature_importance_all_with_'+str(number_of_patients)+'_patients_test_size_'+str(test_size)+imputation_method+'.csv')\n",
    "\n",
    "feature_importance_all.drop(columns='Unnamed: 0',inplace=True)\n",
    "print(feature_importance_all.shape)"
   ]
  },
  {
   "cell_type": "markdown",
   "metadata": {},
   "source": [
    "# 3- Feature Importance for all Models"
   ]
  },
  {
   "cell_type": "markdown",
   "metadata": {},
   "source": [
    "## 3-1 Get CI"
   ]
  },
  {
   "cell_type": "code",
   "execution_count": 5,
   "metadata": {
    "collapsed": true
   },
   "outputs": [],
   "source": [
    "import numpy as np\n",
    "import scipy.stats\n",
    "\n",
    "def mean_confidence_interval(data, confidence=0.95):\n",
    "    a = 1.0 * np.array(data)\n",
    "    n = len(a)\n",
    "    m, se = np.mean(a), scipy.stats.sem(a)\n",
    "    h = se * scipy.stats.t.ppf((1 + confidence) / 2., n-1)\n",
    "    return m-h, m+h\n",
    "\n",
    "def confidence_interval_width(data, confidence=0.95):\n",
    "    a = 1.0 * np.array(data)\n",
    "    n = len(a)\n",
    "    m, se = np.mean(a), scipy.stats.sem(a)\n",
    "    h = se * scipy.stats.t.ppf((1 + confidence) / 2., n-1)\n",
    "    return 2*h"
   ]
  },
  {
   "cell_type": "code",
   "execution_count": 6,
   "metadata": {
    "collapsed": false
   },
   "outputs": [
    {
     "name": "stderr",
     "output_type": "stream",
     "text": [
      "/anaconda2/envs/py3/lib/python3.5/site-packages/ipykernel_launcher.py:1: FutureWarning: Interpreting tuple 'by' as a list of keys, rather than a single key. Use 'by=[...]' instead of 'by=(...)'. In the future, a tuple will always mean a single key.\n",
      "  \"\"\"Entry point for launching an IPython kernel.\n"
     ]
    }
   ],
   "source": [
    "CI = feature_importance_all.groupby(('Feature','Model','target')).agg('Importance').apply(lambda x: confidence_interval_width(x,confidence=0.95))\n",
    "CI = CI.reset_index()"
   ]
  },
  {
   "cell_type": "markdown",
   "metadata": {},
   "source": [
    "## 3-1 Function to print feature importance"
   ]
  },
  {
   "cell_type": "code",
   "execution_count": 9,
   "metadata": {
    "collapsed": false
   },
   "outputs": [],
   "source": [
    "def get_feature_importance(feature_importance_all,model_name,target,max_feat,plot_CI=True,save_img=False):\n",
    "\n",
    "    if model_name == 'Log' or model_name=='Lin':\n",
    "        feat_neg = feature_importance_all.loc[(feature_importance_all.target==target) & (feature_importance_all.Model==model_name)].groupby(('Feature')).agg('Importance').apply(np.mean).sort_values(ascending=True)\n",
    "        feat_pos = feature_importance_all.loc[(feature_importance_all.target==target) & (feature_importance_all.Model==model_name)].groupby(('Feature')).agg('Importance').apply(np.mean).sort_values(ascending=False)\n",
    "        feat = pd.concat((feat_pos[0:int(max_feat/2)],feat_neg[0:int(max_feat/2)]))\n",
    "    else:\n",
    "        feat =feature_importance_all.loc[(feature_importance_all.target==target) & (feature_importance_all.Model==model_name)].groupby(('Feature')).agg('Importance').apply(np.mean).sort_values(ascending=False)\n",
    "        \n",
    "    std =feature_importance_all.loc[(feature_importance_all.target==target) & (feature_importance_all.Model==model_name)].groupby(('Feature')).agg('Importance').apply(np.std)\n",
    "    \n",
    "    CI_bar = CI.loc[(CI.target==target) & (CI.Model==model_name)][['Feature','Importance']]\n",
    "\n",
    "    \n",
    "    features= feat.values\n",
    "    #print(features)\n",
    "    #return feat,std\n",
    "    important_features=np.argsort(abs(features))[::-1]\n",
    "    col=list(feat.index)\n",
    "    k=0\n",
    "    values = []\n",
    "    labels = []\n",
    "    errors=[]\n",
    "    for i in important_features:\n",
    "        k+=1\n",
    "        values.append(features[i])\n",
    "        #print(features[i])\n",
    "        labels.append(col[i])\n",
    "        if plot_CI:\n",
    "            errors.append(CI_bar.loc[CI_bar['Feature']==col[i],'Importance'].values[0])\n",
    "        else:\n",
    "            errors.append(std[col[i]])\n",
    "        if k==max_feat:\n",
    "            break\n",
    "\n",
    "            \n",
    "    title_to_add= \"Hemoglobin\"\n",
    "    if is_creatinine:\n",
    "        title_to_add= \"Creatinine\"\n",
    "    \n",
    "    if is_filter:\n",
    "        title_to_add+=\", patients with abnormal admissions results only\"\n",
    "        \n",
    "    target_dict={\"target_bin\":\"Binary prediction\",\"target_bin2\":\"Binary prediction baseline <8\",\"target_AKI\": \"AKI prediction\", 'target_baseline':'Actual value continuous prediction'}\n",
    "\n",
    "    \n",
    "    model_dict={\"CART\":\"Decision Tree\",'RFC':'Random Forest','XGB':'Gradient Boosted Trees','OCT':'Optimal Classification Tree','ORT':'Optimal Regressor Tree', 'Lin':'Linear Regression','Log':'Logistic Regression'}\n",
    "    fig, ax = plt.subplots(figsize=(10,8))\n",
    "    ax.barh(labels, width=values,xerr=errors)\n",
    "    ax.invert_yaxis()  # labels read top-to-bottom\n",
    "    type_of_graph='Feature'\n",
    "    if model_name=='Log':\n",
    "        type_of_graph=\"Coefficient\"\n",
    "    \n",
    "    ax.set_xlabel(type_of_graph)\n",
    "    if plot_CI:\n",
    "        ax.set_title(model_name+' '+target+' Task, Feature Importance and CI')\n",
    "    else:\n",
    "        ax.set_title(type_of_graph+\" Importance: \" +target_dict[target]+' for '+model_dict[model_name]+' '+title_to_add)\n",
    "    \n",
    "    if save_img:\n",
    "        plt.savefig(path+'/figures/features_importances/feature_importance_with'+str(number_of_patients)+'_patients_'+model_name+'_'+target,dpi=400,bbox_inches=\"tight\")\n",
    "\n",
    "\n",
    "\n",
    "\n",
    "\n",
    "\n",
    "\n",
    "\n",
    "\n",
    "        \n",
    "    "
   ]
  },
  {
   "cell_type": "markdown",
   "metadata": {},
   "source": [
    "### Load the feature importance csv"
   ]
  },
  {
   "cell_type": "code",
   "execution_count": 37,
   "metadata": {
    "collapsed": false
   },
   "outputs": [],
   "source": [
    "is_creatinine=True\n",
    "#is_creatinine=False\n",
    "is_filter=False\n",
    "#is_filter=True\n",
    "\n",
    "is_continuous=False\n",
    "is_continuous=True\n",
    "\n",
    "test_size=0.25\n",
    "path_to_add='Hemoglobin/'\n",
    "number_of_patients=6139\n",
    "filtered=''\n",
    "if is_filter:\n",
    "    number_of_patients=1553\n",
    "    \n",
    "    \n",
    "\n",
    "if is_creatinine:\n",
    "    path_to_add='Creatinine/'\n",
    "    number_of_patients=4643\n",
    "    if is_filter:\n",
    "        number_of_patients=1719\n",
    "\n",
    "path_to_add='Hemoglobin/'\n",
    "creatinine='_hemoglobin'\n",
    "\n",
    "if is_creatinine:\n",
    "    path_to_add='Creatinine/'\n",
    "    creatinine='_creatinine'\n",
    "    \n",
    "continuous=''\n",
    "\n",
    "if is_continuous:\n",
    "    continuous='_continuous'\n",
    "\n",
    "path='../../Data/Results/'+path_to_add  \n",
    "imputation_method='knn'\n",
    "constant_end_of_path=str(number_of_patients)+'_patients_test_size_'+str(test_size)+imputation_method+continuous\n",
    "\n",
    "\n",
    "feature_importance_all = pd.read_csv(path+'Features/feature_importance_all_with_'+constant_end_of_path+'.csv')\n",
    "\n"
   ]
  },
  {
   "cell_type": "markdown",
   "metadata": {},
   "source": [
    "### Print and save the feature importance"
   ]
  },
  {
   "cell_type": "code",
   "execution_count": 38,
   "metadata": {
    "collapsed": false,
    "scrolled": true
   },
   "outputs": [],
   "source": [
    "targets=['target_bin','target_bin2']\n",
    "if is_creatinine:\n",
    "    targets=['target_bin','target_AKI']\n",
    "\n",
    "if not is_continuous:\n",
    "    max_feat=20\n",
    "    models_to_test = ['RFC','CART','Log','XGB','OCT']\n",
    "    for model_name in models_to_test:\n",
    "        for target in targets:\n",
    "            get_feature_importance(feature_importance_all,model_name,target,max_feat,plot_CI=False,save_img=True)"
   ]
  },
  {
   "cell_type": "code",
   "execution_count": 2,
   "metadata": {
    "collapsed": false
   },
   "outputs": [],
   "source": [
    "if is_continuous:\n",
    "    max_feat=20\n",
    "    models_to_test = ['RFC','Lin','XGB','ORT']\n",
    "    for model_name in models_to_test:\n",
    "        for target in ['target_baseline']:\n",
    "            get_feature_importance(feature_importance_all,model_name,target,max_feat,plot_CI=False,save_img=True)"
   ]
  },
  {
   "cell_type": "code",
   "execution_count": 29,
   "metadata": {
    "collapsed": false
   },
   "outputs": [
    {
     "data": {
      "image/png": "[encoded data removed]",
      "text/plain": [
       "<Figure size 720x576 with 1 Axes>"
      ]
     },
     "metadata": {
      "needs_background": "light"
     },
     "output_type": "display_data"
    }
   ],
   "source": [
    "\n",
    "\n",
    "max_feat=20\n",
    "model_name='Log'\n",
    "target='target_bin'\n",
    "get_feature_importance(feature_importance_all,model_name,target,max_feat,plot_CI=False)"
   ]
  },
  {
   "cell_type": "code",
   "execution_count": null,
   "metadata": {
    "collapsed": true
   },
   "outputs": [],
   "source": []
  },
  {
   "cell_type": "code",
   "execution_count": null,
   "metadata": {
    "collapsed": true
   },
   "outputs": [],
   "source": []
  },
  {
   "cell_type": "code",
   "execution_count": null,
   "metadata": {
    "collapsed": true
   },
   "outputs": [],
   "source": []
  }
 ],
 "metadata": {
  "kernelspec": {
   "display_name": "Python 3",
   "language": "python",
   "name": "python3"
  },
  "language_info": {
   "codemirror_mode": {
    "name": "ipython",
    "version": 3
   },
   "file_extension": ".py",
   "mimetype": "text/x-python",
   "name": "python",
   "nbconvert_exporter": "python",
   "pygments_lexer": "ipython3",
   "version": "3.5.6"
  }
 },
 "nbformat": 4,
 "nbformat_minor": 2
}
