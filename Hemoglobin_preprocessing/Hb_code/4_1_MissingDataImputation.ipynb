{
 "cells": [
  {
   "cell_type": "markdown",
   "metadata": {},
   "source": [
    "# 1- Packages Import"
   ]
  },
  {
   "cell_type": "code",
   "execution_count": 4,
   "metadata": {
    "collapsed": false
   },
   "outputs": [
    {
     "name": "stdout",
     "output_type": "stream",
     "text": [
      "(6139, 58)\n",
      "(1553, 58)\n"
     ]
    }
   ],
   "source": [
    "import numpy as np\n",
    "import pandas as pd\n",
    "import matplotlib.pyplot as plt\n",
    "import seaborn as sns\n",
    "\n",
    "# Imputation\n",
    "import sklearn.preprocessing.imputation\n",
    "from sklearn.preprocessing import Imputer\n",
    "from sklearn.impute import SimpleImputer\n",
    "\n",
    "\n",
    "# # 2- Approach\n",
    "\n",
    "# 2 types of imputation: <br/>\n",
    "# - mean <br/>\n",
    "# - knn \n",
    "\n",
    "# # 3- Data import\n",
    "\n",
    "# In[ ]:\n",
    "\n",
    "\n",
    "\n",
    "# In[80]:\n",
    "#for timelag in ['2','4','6','24']:\n",
    "for timelag in ['2']:\n",
    "    for filt in ['','filter']:\n",
    "\n",
    "        creatinine=False\n",
    "        path_to_add=''\n",
    "        if creatinine:\n",
    "            path_to_add='creatinine_data/'\n",
    "            \n",
    "    \n",
    "        X = pd.read_csv('../data/'+path_to_add+'X{}_not_imputed_{}h.csv'.format(('_'*(len(filt)>0))+filt,timelag), index_col=0)\n",
    "\n",
    "        #X[['is_female','ethnicity']].astype('category')\n",
    "        \n",
    "        cols= X.columns\n",
    "        cols = cols.drop(['is_female','ethnicity'])\n",
    "        #print(X.dtypes)\n",
    "        imp_mean = SimpleImputer(missing_values=np.nan, strategy='mean')\n",
    "\n",
    "        \n",
    "\n",
    "        # In[76]:\n",
    "\n",
    "        imp_mean.fit(X[cols])\n",
    "        \n",
    "        X.reset_index(inplace=True)\n",
    "        X.drop(columns='index',inplace=True)\n",
    "        X[cols] = pd.DataFrame(imp_mean.transform(X[cols]), columns=cols).reset_index().drop(columns='index')  \n",
    "\n",
    "\n",
    "\n",
    "        # ### Export\n",
    "\n",
    "        # In[78]:\n",
    "\n",
    "        export_mean_name = '../data/'+path_to_add+'X{}_mean_imputed_{}h.csv'.format(('_'*(len(filt)>0))+filt,timelag)\n",
    "\n",
    "\n",
    "        # In[79]:\n",
    "\n",
    "        X.to_csv(export_mean_name)\n",
    "        print(X.shape)\n",
    "\n",
    "\n"
   ]
  },
  {
   "cell_type": "code",
   "execution_count": null,
   "metadata": {
    "collapsed": true
   },
   "outputs": [],
   "source": []
  }
 ],
 "metadata": {
  "kernelspec": {
   "display_name": "Python 3",
   "language": "python",
   "name": "python3"
  },
  "language_info": {
   "codemirror_mode": {
    "name": "ipython",
    "version": 3
   },
   "file_extension": ".py",
   "mimetype": "text/x-python",
   "name": "python",
   "nbconvert_exporter": "python",
   "pygments_lexer": "ipython3",
   "version": "3.5.6"
  }
 },
 "nbformat": 4,
 "nbformat_minor": 2
}
