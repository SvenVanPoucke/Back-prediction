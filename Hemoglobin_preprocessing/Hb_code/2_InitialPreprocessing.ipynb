{
 "cells": [
  {
   "cell_type": "markdown",
   "metadata": {},
   "source": [
    "# 1- Packages Import"
   ]
  },
  {
   "cell_type": "code",
   "execution_count": 1,
   "metadata": {
    "collapsed": true
   },
   "outputs": [],
   "source": [
    "import numpy as np\n",
    "import pandas as pd\n",
    "import matplotlib.pyplot as plt\n",
    "import seaborn as sns\n",
    "from sklearn import preprocessing"
   ]
  },
  {
   "cell_type": "markdown",
   "metadata": {},
   "source": [
    "# 2- Approach"
   ]
  },
  {
   "cell_type": "markdown",
   "metadata": {},
   "source": [
    "In this notebook, we perform elementary preprocessing operations on our 2 data files: <br/>\n",
    "- Masterfile 24h <br/>\n",
    "- Masterfile 6h <br/>\n",
    "- Masterfile 4h <br/>\n",
    "- Masterfile 2h <br/>"
   ]
  },
  {
   "cell_type": "markdown",
   "metadata": {},
   "source": [
    "# 3- Data Import"
   ]
  },
  {
   "cell_type": "code",
   "execution_count": 11,
   "metadata": {
    "collapsed": false
   },
   "outputs": [],
   "source": [
    "creatinine=True\n",
    "path_to_add='master_file_different_hours/'\n",
    "if creatinine:\n",
    "    path_to_add='Creatinine_data_master/'\n",
    "\n",
    "data24 = pd.read_csv('../data/'+path_to_add+'Masterfile24h.csv', index_col=0)\n",
    "data6 = pd.read_csv('../data/'+path_to_add+'Masterfile6h.csv', index_col=0)\n",
    "data4 = pd.read_csv('../data/'+path_to_add+'Masterfile4h.csv', index_col=0)\n",
    "data2 = pd.read_csv('../data/'+path_to_add+'Masterfile2h.csv', index_col=0)"
   ]
  },
  {
   "cell_type": "code",
   "execution_count": 10,
   "metadata": {
    "collapsed": true
   },
   "outputs": [],
   "source": [
    "data2hb = data2"
   ]
  },
  {
   "cell_type": "code",
   "execution_count": 12,
   "metadata": {
    "collapsed": true
   },
   "outputs": [],
   "source": [
    "data2cr = data2"
   ]
  },
  {
   "cell_type": "code",
   "execution_count": 17,
   "metadata": {
    "collapsed": true
   },
   "outputs": [],
   "source": [
    "data2hb = data2hb.loc[data2hb[\"Hem_base_timelag\"]>=-30]"
   ]
  },
  {
   "cell_type": "code",
   "execution_count": 21,
   "metadata": {
    "collapsed": false
   },
   "outputs": [],
   "source": [
    "data2cr = data2cr.loc[data2cr[\"Cr_base_timelag\"]>=-30]"
   ]
  },
  {
   "cell_type": "code",
   "execution_count": 16,
   "metadata": {
    "collapsed": false
   },
   "outputs": [
    {
     "data": {
      "text/plain": [
       "(4786, 85)"
      ]
     },
     "execution_count": 16,
     "metadata": {},
     "output_type": "execute_result"
    }
   ],
   "source": [
    "data2cr.shape"
   ]
  },
  {
   "cell_type": "code",
   "execution_count": 22,
   "metadata": {
    "collapsed": false
   },
   "outputs": [
    {
     "data": {
      "text/plain": [
       "(4331, 83)"
      ]
     },
     "execution_count": 22,
     "metadata": {},
     "output_type": "execute_result"
    }
   ],
   "source": [
    "data2hb.loc[data2hb.subject_id.isin(data2cr.subject_id)].shape"
   ]
  },
  {
   "cell_type": "code",
   "execution_count": 80,
   "metadata": {
    "collapsed": true
   },
   "outputs": [],
   "source": [
    "import re\n",
    "def get_race(race):\n",
    "    return re.split(r'[`\\-=~!@#$%^&*()_+\\[\\]{};\\'\\\\:\"|<,./<>? ]', race)[0]\n",
    "    \n",
    "def convert_race(race):\n",
    "    if race in ['WHITE', 'BLACK', 'HISPANIC', 'ASIAN']:\n",
    "        return race\n",
    "    return 'OTHER'\n",
    "\n",
    "def get_race_straight(race_long):\n",
    "    race= re.split(r'[`\\-=~!@#$%^&*()_+\\[\\]{};\\'\\\\:\"|<,./<>? ]', race_long)[0]\n",
    "    if race in ['WHITE', 'BLACK', 'HISPANIC', 'ASIAN']:\n",
    "        return race\n",
    "    return 'OTHER'\n"
   ]
  },
  {
   "cell_type": "code",
   "execution_count": 3,
   "metadata": {
    "collapsed": false
   },
   "outputs": [
    {
     "name": "stdout",
     "output_type": "stream",
     "text": [
      "(6281, 83)\n",
      "(6593, 83)\n"
     ]
    }
   ],
   "source": [
    "patients4 = data4.subject_id.unique()\n",
    "patients2 = data2.subject_id.unique()\n",
    "\n",
    "print(data2.shape)\n",
    "print(data4.shape)\n",
    "#print(len(inter))\n",
    "data4 = data4.loc[data4.subject_id.isin(patients2)]\n",
    "data6 = data6.loc[data6.subject_id.isin(patients2)]\n",
    "data24 = data24.loc[data24.subject_id.isin(patients2)]"
   ]
  },
  {
   "cell_type": "code",
   "execution_count": 5,
   "metadata": {
    "collapsed": true
   },
   "outputs": [],
   "source": [
    "data ={}"
   ]
  },
  {
   "cell_type": "code",
   "execution_count": 6,
   "metadata": {
    "collapsed": false
   },
   "outputs": [],
   "source": [
    "data[24]= data24\n",
    "data[6]= data6\n",
    "data[4]= data4\n",
    "data[2]= data2"
   ]
  },
  {
   "cell_type": "markdown",
   "metadata": {},
   "source": [
    "# 4- Elementary Preprocessing"
   ]
  },
  {
   "cell_type": "markdown",
   "metadata": {},
   "source": [
    "### 4.1- Trend Features?"
   ]
  },
  {
   "cell_type": "markdown",
   "metadata": {},
   "source": [
    "### 4.2- Timelag filter"
   ]
  },
  {
   "cell_type": "markdown",
   "metadata": {},
   "source": [
    "Here, we delete rows with a timelag greater than 30 days."
   ]
  },
  {
   "cell_type": "code",
   "execution_count": 7,
   "metadata": {
    "collapsed": true
   },
   "outputs": [],
   "source": [
    "nb_max_days = 30"
   ]
  },
  {
   "cell_type": "code",
   "execution_count": 8,
   "metadata": {
    "collapsed": false
   },
   "outputs": [
    {
     "name": "stdout",
     "output_type": "stream",
     "text": [
      "Number of rows deleted for 2hours :  142\n",
      "Number of rows deleted for 4hours :  142\n",
      "Number of rows deleted for 6hours :  142\n",
      "Number of rows deleted for 24hours :  142\n"
     ]
    }
   ],
   "source": [
    "for i in [2,4,6,24]:   \n",
    "    print(\"Number of rows deleted for \"+str(i) +\"hours : \", len(data[i].loc[data[i][\"Hem_base_timelag\"]<-30]))\n",
    "    data[i] = data[i].loc[data[i][\"Hem_base_timelag\"]>=-30]"
   ]
  },
  {
   "cell_type": "code",
   "execution_count": 9,
   "metadata": {
    "collapsed": false
   },
   "outputs": [
    {
     "data": {
      "text/plain": [
       "6139"
      ]
     },
     "execution_count": 9,
     "metadata": {},
     "output_type": "execute_result"
    }
   ],
   "source": [
    "6281-142"
   ]
  },
  {
   "cell_type": "markdown",
   "metadata": {},
   "source": [
    "### 4.3- Features selection"
   ]
  },
  {
   "cell_type": "markdown",
   "metadata": {},
   "source": [
    "Here, we delete features using: <br/>\n",
    "- our correlation analysis <br/>\n",
    "- the medical insights about redundant features"
   ]
  },
  {
   "cell_type": "markdown",
   "metadata": {},
   "source": [
    "We do not perform any \"best subset selection\" here."
   ]
  },
  {
   "cell_type": "code",
   "execution_count": 58,
   "metadata": {
    "collapsed": true
   },
   "outputs": [],
   "source": [
    "id_features_tbr = ['subject_id', 'icustay_id', 'hadm_id']\n",
    "time_features_tbr = ['Hb_baseline_time','admittime', 'Hb_initial_time']\n",
    "corr_features_tbr = ['Hematocrit', 'PT','MCH', 'MCV']\n",
    "corr_features_tbr += [c for c in data24.columns if ((c.startswith(\"MAP\")))]\n",
    "other_features_tbr = ['icu_length_of_stay', 'admission_location', 'diagnosis']\n",
    "features_to_be_removed = id_features_tbr + time_features_tbr + corr_features_tbr + other_features_tbr"
   ]
  },
  {
   "cell_type": "code",
   "execution_count": 59,
   "metadata": {
    "collapsed": false
   },
   "outputs": [],
   "source": [
    "for i in [2,4,6,24]:   \n",
    "    data[i] = data[i].drop(columns = features_to_be_removed, axis=1)\n"
   ]
  },
  {
   "cell_type": "markdown",
   "metadata": {},
   "source": [
    "### 4.4- Missing Values Filter"
   ]
  },
  {
   "cell_type": "code",
   "execution_count": 60,
   "metadata": {
    "collapsed": true
   },
   "outputs": [],
   "source": [
    "df_missing = {}"
   ]
  },
  {
   "cell_type": "code",
   "execution_count": 61,
   "metadata": {
    "collapsed": false
   },
   "outputs": [],
   "source": [
    "for i in [2,4,6,24]:   \n",
    "    df_missing[i] = pd.DataFrame({\"column\":list(data[i].columns), \"% missing\":[round(sum(data[i][c].isnull())/len(data[i])*100, 2) for c in data[i].columns]})"
   ]
  },
  {
   "cell_type": "code",
   "execution_count": 62,
   "metadata": {
    "collapsed": false
   },
   "outputs": [
    {
     "data": {
      "text/html": [
       "<div>\n",
       "<style scoped>\n",
       "    .dataframe tbody tr th:only-of-type {\n",
       "        vertical-align: middle;\n",
       "    }\n",
       "\n",
       "    .dataframe tbody tr th {\n",
       "        vertical-align: top;\n",
       "    }\n",
       "\n",
       "    .dataframe thead th {\n",
       "        text-align: right;\n",
       "    }\n",
       "</style>\n",
       "<table border=\"1\" class=\"dataframe\">\n",
       "  <thead>\n",
       "    <tr style=\"text-align: right;\">\n",
       "      <th></th>\n",
       "      <th>% missing</th>\n",
       "      <th>column</th>\n",
       "    </tr>\n",
       "  </thead>\n",
       "  <tbody>\n",
       "    <tr>\n",
       "      <th>15</th>\n",
       "      <td>96.24</td>\n",
       "      <td>Ferritin</td>\n",
       "    </tr>\n",
       "    <tr>\n",
       "      <th>16</th>\n",
       "      <td>98.01</td>\n",
       "      <td>Folate</td>\n",
       "    </tr>\n",
       "    <tr>\n",
       "      <th>18</th>\n",
       "      <td>95.76</td>\n",
       "      <td>Iron</td>\n",
       "    </tr>\n",
       "    <tr>\n",
       "      <th>19</th>\n",
       "      <td>95.86</td>\n",
       "      <td>Iron Binding Capacity, Total</td>\n",
       "    </tr>\n",
       "    <tr>\n",
       "      <th>29</th>\n",
       "      <td>96.71</td>\n",
       "      <td>Protein, Total</td>\n",
       "    </tr>\n",
       "    <tr>\n",
       "      <th>33</th>\n",
       "      <td>95.86</td>\n",
       "      <td>Transferrin</td>\n",
       "    </tr>\n",
       "    <tr>\n",
       "      <th>35</th>\n",
       "      <td>97.41</td>\n",
       "      <td>Vitamin B12</td>\n",
       "    </tr>\n",
       "    <tr>\n",
       "      <th>65</th>\n",
       "      <td>97.46</td>\n",
       "      <td>vassopresor_doses</td>\n",
       "    </tr>\n",
       "  </tbody>\n",
       "</table>\n",
       "</div>"
      ],
      "text/plain": [
       "    % missing                        column\n",
       "15      96.24                      Ferritin\n",
       "16      98.01                        Folate\n",
       "18      95.76                          Iron\n",
       "19      95.86  Iron Binding Capacity, Total\n",
       "29      96.71                Protein, Total\n",
       "33      95.86                   Transferrin\n",
       "35      97.41                   Vitamin B12\n",
       "65      97.46             vassopresor_doses"
      ]
     },
     "execution_count": 62,
     "metadata": {},
     "output_type": "execute_result"
    }
   ],
   "source": [
    "i=2\n",
    "df_missing[i].loc[df_missing[i]['% missing']>=80]"
   ]
  },
  {
   "cell_type": "code",
   "execution_count": 63,
   "metadata": {
    "collapsed": true
   },
   "outputs": [],
   "source": [
    "i=24\n",
    "features_to_drop = list(df_missing[i].loc[df_missing[i]['% missing']>=80][\"column\"].unique())\n",
    "features_to_drop.remove(\"vassopresor_doses\")\n",
    "features_to_drop = [c for c in features_to_drop if c in data[i].columns]"
   ]
  },
  {
   "cell_type": "code",
   "execution_count": 64,
   "metadata": {
    "collapsed": true
   },
   "outputs": [],
   "source": [
    "for i in [2,4,6,24]:   \n",
    "    data[i] = data[i].drop(columns = features_to_drop, axis=1)"
   ]
  },
  {
   "cell_type": "markdown",
   "metadata": {},
   "source": [
    "### 4.5- Encode categorical variables"
   ]
  },
  {
   "cell_type": "code",
   "execution_count": 65,
   "metadata": {
    "collapsed": true
   },
   "outputs": [],
   "source": [
    "for i in [2,4,6,24]:   \n",
    "    for col in [ 'admission_type', 'current_service', 'Bleed_dx']:\n",
    "        le = preprocessing.LabelEncoder()\n",
    "        le.fit(data[i][col])\n",
    "        data[i][col]=le.transform(data[i][col])\n",
    "    "
   ]
  },
  {
   "cell_type": "code",
   "execution_count": 66,
   "metadata": {
    "collapsed": true
   },
   "outputs": [],
   "source": [
    "for i in [2,4,6,24]:   \n",
    "    data[i]['vassopresor_doses'] = data[i]['vassopresor_doses'].fillna(0)\n"
   ]
  },
  {
   "cell_type": "code",
   "execution_count": 69,
   "metadata": {
    "collapsed": false
   },
   "outputs": [],
   "source": [
    "def is_female(g):\n",
    "    if g=='F':\n",
    "        return 1\n",
    "    return 0"
   ]
  },
  {
   "cell_type": "code",
   "execution_count": 71,
   "metadata": {
    "collapsed": false
   },
   "outputs": [],
   "source": [
    "for i in [2,4,6,24]:   \n",
    "    data[i]['is_female'] = data[i]['gender'].apply(is_female)\n",
    "    data[i].drop(columns='gender',inplace=True)\n",
    "\n"
   ]
  },
  {
   "cell_type": "code",
   "execution_count": 72,
   "metadata": {
    "collapsed": true
   },
   "outputs": [],
   "source": [
    "for i in [2,4,6,24]:   \n",
    "    data[i]['ethnicity'] = data[i]['ethnicity'].apply(get_race_straight)\n",
    "\n",
    "\n"
   ]
  },
  {
   "cell_type": "markdown",
   "metadata": {},
   "source": [
    "# 5- Data Export"
   ]
  },
  {
   "cell_type": "code",
   "execution_count": 73,
   "metadata": {
    "collapsed": false
   },
   "outputs": [
    {
     "name": "stdout",
     "output_type": "stream",
     "text": [
      "(6139, 59)\n",
      "Index(['Hb_value_baseline', 'Hem_base_timelag', 'Hb_value_initial',\n",
      "       'ageatadmin', 'admission_type', 'ethnicity', 'current_service',\n",
      "       'Bleed_dx', 'Albumin', 'Bicarbonate', 'Bilirubin, Total',\n",
      "       'Calcium, Total', 'Chloride', 'Creatinine', 'INR(PT)', 'Lactate',\n",
      "       'Lactate Dehydrogenase (LD)', 'MCHC', 'pCO2', 'pH', 'Phosphate',\n",
      "       'Platelet Count', 'pO2', 'Potassium', 'PTT', 'Red Blood Cells',\n",
      "       'Sodium', 'Urea Nitrogen', 'White Blood Cells', 'DBP_max', 'DBP_mean',\n",
      "       'DBP_min', 'DBP_sd', 'GLU_max', 'GLU_mean', 'GLU_min', 'GLU_sd',\n",
      "       'HR_max', 'HR_mean', 'HR_min', 'HR_sd', 'RR_max', 'RR_mean', 'RR_min',\n",
      "       'RR_sd', 'SBP_max', 'SBP_mean', 'SBP_min', 'SBP_sd', 'SPO2_max',\n",
      "       'SPO2_mean', 'SPO2_min', 'SPO2_sd', 'TEMP_max', 'TEMP_mean', 'TEMP_min',\n",
      "       'TEMP_sd', 'vassopresor_doses', 'is_female'],\n",
      "      dtype='object')\n"
     ]
    }
   ],
   "source": [
    "print(data[i].shape)\n",
    "print(data[i].columns)"
   ]
  },
  {
   "cell_type": "code",
   "execution_count": 74,
   "metadata": {
    "collapsed": true
   },
   "outputs": [],
   "source": [
    "for i in [2,4,6,24]:\n",
    "    export_name_data = '../data/master_file_different_hours/PreProcessed_Masterfile{}h.csv'.format(str(i))\n",
    "    data[i].to_csv(export_name_data)"
   ]
  },
  {
   "cell_type": "code",
   "execution_count": null,
   "metadata": {
    "collapsed": true
   },
   "outputs": [],
   "source": []
  }
 ],
 "metadata": {
  "kernelspec": {
   "display_name": "Python 3",
   "language": "python",
   "name": "python3"
  },
  "language_info": {
   "codemirror_mode": {
    "name": "ipython",
    "version": 3
   },
   "file_extension": ".py",
   "mimetype": "text/x-python",
   "name": "python",
   "nbconvert_exporter": "python",
   "pygments_lexer": "ipython3",
   "version": "3.5.6"
  }
 },
 "nbformat": 4,
 "nbformat_minor": 2
}
