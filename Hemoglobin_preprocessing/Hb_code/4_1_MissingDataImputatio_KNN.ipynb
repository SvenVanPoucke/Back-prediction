{
 "cells": [
  {
   "cell_type": "markdown",
   "metadata": {},
   "source": [
    "# 1- Packages Import"
   ]
  },
  {
   "cell_type": "markdown",
   "metadata": {
    "collapsed": true
   },
   "source": [
    "Note: This notebook can be used both for Hemoglobin and Creatinine file\n",
    "Just need to change Creatinine = True or False below"
   ]
  },
  {
   "cell_type": "markdown",
   "metadata": {},
   "source": [
    "### Import Julia and interpretable ia Packages (need to be installed to run)"
   ]
  },
  {
   "cell_type": "code",
   "execution_count": 1,
   "metadata": {
    "collapsed": false,
    "scrolled": true
   },
   "outputs": [
    {
     "name": "stderr",
     "output_type": "stream",
     "text": [
      "/anaconda2/envs/py3/lib/python3.5/site-packages/julia/core.py:442: UserWarning: /Applications/Julia-0.7.app/Contents/Resources/julia/bin/julia warned:\n",
      "WARNING: importing deprecated binding Base.Libdl into LIBLINEAR.\n",
      "WARNING: Base.Libdl is deprecated, run `using Libdl` instead\n",
      " in module LIBLINEAR\n",
      "WARNING: Base.Void is deprecated, use Nothing instead.\n",
      " in module LIBLINEAR\n",
      "WARNING: Base.Void is deprecated, use Nothing instead.\n",
      " in module LIBLINEAR\n",
      "WARNING: Base.Libdl is deprecated, run `using Libdl` instead\n",
      " in module LIBLINEAR\n",
      "WARNING: Base.Void is deprecated, use Nothing instead.\n",
      " in module LIBLINEAR\n",
      "WARNING: Base.Libdl is deprecated, run `using Libdl` instead\n",
      " in module LIBLINEAR\n",
      "WARNING: Base.Void is deprecated, use Nothing instead.\n",
      " in module LIBLINEAR\n",
      "WARNING: Base.Void is deprecated, use Nothing instead.\n",
      " in module LIBLINEAR\n",
      "WARNING: Base.Libdl is deprecated, run `using Libdl` instead\n",
      " in module LIBLINEAR\n",
      "WARNING: Base.Void is deprecated, use Nothing instead.\n",
      " in module LIBLINEAR\n",
      "WARNING: Base.Void is deprecated, use Nothing instead.\n",
      " in module LIBLINEAR\n",
      "in get_liblinear at /Users/iai/.julia/packages/LIBLINEAR/xcSKN/src/LIBLINEAR.jl\n",
      "┌ Warning: `is_windows` is deprecated, use `Sys.iswindows` instead.\n",
      "│   caller = get_liblinear() at LIBLINEAR.jl:74\n",
      "└ @ LIBLINEAR /Users/iai/.julia/packages/LIBLINEAR/xcSKN/src/LIBLINEAR.jl:74\n",
      "┌ Warning: `cfunction(f, r, a::Tuple)` is deprecated, use `cfunction(f, r, Tuple{a...})` instead.\n",
      "│   caller = get_liblinear() at LIBLINEAR.jl:78\n",
      "└ @ LIBLINEAR /Users/iai/.julia/packages/LIBLINEAR/xcSKN/src/LIBLINEAR.jl:78\n",
      "┌ Warning: The function `cfunction` is now written as a macro `@cfunction`.\n",
      "│   caller = cfunction(::Function, ::Type, ::Tuple{DataType}) at deprecated.jl:55\n",
      "└ @ Base ./deprecated.jl:55\n",
      "  warnings.warn(\"{} warned:\\n{}\".format(julia, stderr))\n"
     ]
    },
    {
     "data": {
      "text/plain": [
       "array([2, 3, 4, 5, 6, 7, 8, 9], dtype=int64)"
      ]
     },
     "execution_count": 1,
     "metadata": {},
     "output_type": "execute_result"
    }
   ],
   "source": [
    "from julia import Julia\n",
    "Julia(runtime='/Applications/Julia-0.7.app/Contents/Resources/julia/bin/julia',compiled_modules=False)\n",
    "\n",
    "from interpretableai import iai\n",
    "from julia import Distributed\n",
    "Distributed.addprocs(8)"
   ]
  },
  {
   "cell_type": "code",
   "execution_count": 10,
   "metadata": {
    "collapsed": false
   },
   "outputs": [],
   "source": [
    "import numpy as np\n",
    "import pandas as pd\n",
    "import matplotlib.pyplot as plt\n",
    "import seaborn as sns\n",
    "\n",
    "# Imputation\n",
    "import sklearn.preprocessing.imputation\n",
    "from sklearn.preprocessing import Imputer\n",
    "from sklearn.impute import SimpleImputer\n",
    "\n",
    "\n",
    "# # 2- Approach\n",
    "\n",
    "# 2 types of imputation: <br/>\n",
    "# - mean <br/>\n",
    "# - knn \n",
    "\n",
    "# # 3- Data import\n",
    "\n",
    "\n",
    "creatinine=False\n",
    "\n",
    "\n",
    "for timelag in ['2']:\n",
    "    for filt in ['','filter']:\n",
    "        #,'filter'\n",
    "        path_to_add=''\n",
    "        if creatinine:\n",
    "            path_to_add='creatinine_data/'\n",
    "            \n",
    "        # In[73]:\n",
    "\n",
    "        X = pd.read_csv('../data/'+path_to_add+'X{}_not_imputed_{}h.csv'.format(('_'*(len(filt)>0))+filt,timelag), index_col=0)\n",
    "        \n",
    "        X[['is_female','ethnicity']].astype('category')\n",
    "        \n",
    "        cols= X.columns\n",
    "        cols = cols.drop(['is_female','ethnicity'])\n",
    "\n",
    "        \n",
    "        #lnr.fit(X)\n",
    "        X.reset_index(inplace=True)\n",
    "        X.drop(columns='index',inplace=True)\n",
    "\n",
    "        X[cols] = lnr.transform(X[cols]).reset_index().drop(columns='index')   \n",
    "        export_mean_name = '../data/'+path_to_add+'X{}_knn_imputed_{}h.csv'.format(('_'*(len(filt)>0))+filt,timelag)\n",
    "\n",
    "\n",
    "\n",
    "\n",
    "        X.to_csv(export_mean_name)\n",
    "\n"
   ]
  },
  {
   "cell_type": "code",
   "execution_count": 44,
   "metadata": {
    "collapsed": false
   },
   "outputs": [
    {
     "data": {
      "text/plain": [
       "{'algorithm': 'CD',\n",
       " 'cluster': False,\n",
       " 'cluster_max_size': 500,\n",
       " 'criterion': 'l2',\n",
       " 'knn_k': 10,\n",
       " 'max_iter': 200,\n",
       " 'normalize_X': True,\n",
       " 'parallel_processes': None,\n",
       " 'random_seed': 1,\n",
       " 'show_progress_bar': True,\n",
       " 'tol': 0.0001,\n",
       " 'treat_unknown_level_missing': False,\n",
       " 'warmstart_num_random_starts': 5,\n",
       " 'warmstart_use_knn': True,\n",
       " 'warmstart_use_mean': False}"
      ]
     },
     "execution_count": 44,
     "metadata": {},
     "output_type": "execute_result"
    }
   ],
   "source": [
    "#crea\n",
    "lnr.get_params()"
   ]
  },
  {
   "cell_type": "code",
   "execution_count": 5,
   "metadata": {
    "collapsed": false
   },
   "outputs": [
    {
     "data": {
      "text/plain": [
       "{'algorithm': 'CD',\n",
       " 'cluster': False,\n",
       " 'cluster_max_size': 500,\n",
       " 'criterion': 'l2',\n",
       " 'knn_k': 10,\n",
       " 'max_iter': 200,\n",
       " 'normalize_X': True,\n",
       " 'parallel_processes': None,\n",
       " 'random_seed': 1,\n",
       " 'show_progress_bar': True,\n",
       " 'tol': 0.0001,\n",
       " 'treat_unknown_level_missing': False,\n",
       " 'warmstart_num_random_starts': 5,\n",
       " 'warmstart_use_knn': True,\n",
       " 'warmstart_use_mean': False}"
      ]
     },
     "execution_count": 5,
     "metadata": {},
     "output_type": "execute_result"
    }
   ],
   "source": [
    "lnr.get_params()"
   ]
  },
  {
   "cell_type": "code",
   "execution_count": null,
   "metadata": {
    "collapsed": true
   },
   "outputs": [],
   "source": []
  }
 ],
 "metadata": {
  "kernelspec": {
   "display_name": "Python 3",
   "language": "python",
   "name": "python3"
  },
  "language_info": {
   "codemirror_mode": {
    "name": "ipython",
    "version": 3
   },
   "file_extension": ".py",
   "mimetype": "text/x-python",
   "name": "python",
   "nbconvert_exporter": "python",
   "pygments_lexer": "ipython3",
   "version": "3.5.6"
  }
 },
 "nbformat": 4,
 "nbformat_minor": 2
}
